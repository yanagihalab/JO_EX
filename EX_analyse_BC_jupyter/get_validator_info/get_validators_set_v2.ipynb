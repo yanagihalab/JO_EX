{
 "cells": [
  {
   "cell_type": "code",
   "execution_count": 1,
   "id": "7606eb77-2f1f-4e6b-9ce4-c501fc65099e",
   "metadata": {},
   "outputs": [],
   "source": [
    "import os\n",
    "import requests\n",
    "import json\n",
    "import time\n",
    "from tqdm import tqdm  # 追加"
   ]
  },
  {
   "cell_type": "code",
   "execution_count": 2,
   "id": "605705d1-aba6-4b9f-aa0e-6a8f8b8baa89",
   "metadata": {},
   "outputs": [],
   "source": [
    "# 定数定義\n",
    "BASE_URL_BLOCK = \"https://babylon-rpc.publicnode.com/block\"\n",
    "BASE_URL_VALIDATORS = \"https://babylon-rpc.publicnode.com/validators\"\n",
    "PER_PAGE = 100\n",
    "TOTAL_PAGES = 1\n",
    "RETRY_LIMIT = 100\n",
    "SLEEP_TIME = 1\n",
    "BLOCK_COUNT = 500\n",
    "SAVE_DIR = \"current\""
   ]
  },
  {
   "cell_type": "code",
   "execution_count": 3,
   "id": "1d24caf3-5f96-4ad6-8de9-4bab6b49e98d",
   "metadata": {},
   "outputs": [],
   "source": [
    "# 保存先ディレクトリの作成（存在しない場合）\n",
    "os.makedirs(SAVE_DIR, exist_ok=True)\n",
    "\n",
    "headers = {\"User-Agent\": \"Mozilla/5.0\"}\n",
    "\n",
    "# 最新のブロック番号を取得\n",
    "def get_latest_height():\n",
    "    response = requests.get(BASE_URL_BLOCK, headers=headers, timeout=10)\n",
    "    response.raise_for_status()\n",
    "    latest_block = response.json()\n",
    "    return int(latest_block[\"result\"][\"block\"][\"header\"][\"height\"])"
   ]
  },
  {
   "cell_type": "code",
   "execution_count": null,
   "id": "36ef3659-ccc3-4b66-9c6f-9fa0a35e8290",
   "metadata": {},
   "outputs": [
    {
     "name": "stdout",
     "output_type": "stream",
     "text": [
      "最新のブロック番号: 181857\n"
     ]
    },
    {
     "name": "stderr",
     "output_type": "stream",
     "text": [
      "Fetching blocks:   6%|█████████████████████▏                                                                                                                                                                                                                                                                                                                                           | 30/500 [00:35<09:08,  1.17s/block]"
     ]
    }
   ],
   "source": [
    "latest_height = get_latest_height()\n",
    "print(f\"最新のブロック番号: {latest_height}\")\n",
    "\n",
    "# 最新のブロックから5000ブロック分さかのぼって取得\n",
    "for i in tqdm(range(BLOCK_COUNT), desc=\"Fetching blocks\", unit=\"block\"):\n",
    "    height = latest_height - i\n",
    "\n",
    "    # ---- 1. ブロック情報の取得 ----\n",
    "    block_info = {}\n",
    "    try:\n",
    "        block_url = f\"{BASE_URL_BLOCK}?height={height}\"\n",
    "        block_response = requests.get(block_url, headers=headers, timeout=10)\n",
    "        block_response.raise_for_status()\n",
    "        block_info = block_response.json().get(\"result\", {})\n",
    "    except requests.exceptions.RequestException as e:\n",
    "        print(f\"  ❌ Failed to fetch block info for height {height}: {e}\")"
   ]
  },
  {
   "cell_type": "code",
   "execution_count": null,
   "id": "a5a38c75-6f21-4682-b5cb-5427d32149b2",
   "metadata": {},
   "outputs": [],
   "source": [
    "    # ---- 2. バリデータ情報の取得 ----\n",
    "    block_validators = []\n",
    "\n",
    "    for page in range(1, TOTAL_PAGES + 1):\n",
    "        url = f\"{BASE_URL_VALIDATORS}?height={height}&per_page={PER_PAGE}&page={page}\"\n",
    "        retries = 0\n",
    "\n",
    "        while retries < RETRY_LIMIT:\n",
    "            try:\n",
    "                response = requests.get(url, headers=headers, timeout=10)\n",
    "                response.raise_for_status()\n",
    "\n",
    "                data = response.json()\n",
    "                result = data.get(\"result\")\n",
    "\n",
    "                if not result or not isinstance(result, dict) or \"validators\" not in result:\n",
    "                    break\n",
    "\n",
    "                validators = result[\"validators\"]\n",
    "\n",
    "                if not validators:\n",
    "                    break\n",
    "\n",
    "                block_validators.extend(validators)\n",
    "                break\n",
    "\n",
    "            except requests.exceptions.RequestException as e:\n",
    "                retries += 1\n",
    "                time.sleep(SLEEP_TIME)\n",
    "\n",
    "        if retries == RETRY_LIMIT:\n",
    "            print(f\"  ❗ Failed to fetch page {page} after {RETRY_LIMIT} attempts. Skipping.\")"
   ]
  },
  {
   "cell_type": "code",
   "execution_count": null,
   "id": "ddae63be-ceeb-4067-ae90-d44a441febcb",
   "metadata": {},
   "outputs": [],
   "source": [
    "    # ---- 3. JSONファイルとして保存 ----\n",
    "    if block_info or block_validators:\n",
    "        output = {\n",
    "            \"block_info\": block_info,\n",
    "            \"validators\": block_validators\n",
    "        }\n",
    "        filename = os.path.join(SAVE_DIR, f\"BlockNum_{height}.json\")\n",
    "        with open(filename, \"w\", encoding=\"utf-8\") as f:\n",
    "            json.dump(output, f, indent=4, ensure_ascii=False)\n",
    "    else:\n",
    "        print(f\"⚠️ No data found for height {height}. Skipping file creation.\")"
   ]
  }
 ],
 "metadata": {
  "kernelspec": {
   "display_name": "Python 3 (ipykernel)",
   "language": "python",
   "name": "python3"
  },
  "language_info": {
   "codemirror_mode": {
    "name": "ipython",
    "version": 3
   },
   "file_extension": ".py",
   "mimetype": "text/x-python",
   "name": "python",
   "nbconvert_exporter": "python",
   "pygments_lexer": "ipython3",
   "version": "3.10.12"
  }
 },
 "nbformat": 4,
 "nbformat_minor": 5
}
